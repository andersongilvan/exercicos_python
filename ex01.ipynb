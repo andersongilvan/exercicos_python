{
 "cells": [
  {
   "cell_type": "markdown",
   "id": "0b726871",
   "metadata": {},
   "source": [
    "# Exercício 1\n",
    "## Peça ao usuário que digite seu nome e exiba uma saudação personalizada."
   ]
  },
  {
   "cell_type": "code",
   "execution_count": 1,
   "id": "8060bc61",
   "metadata": {},
   "outputs": [
    {
     "name": "stdout",
     "output_type": "stream",
     "text": [
      "Olá Anderson, seja bem vindo\n"
     ]
    }
   ],
   "source": [
    "nome = input(\"Digite seu nome: \")\n",
    "\n",
    "print(f\"Olá {nome}, seja bem vindo\")"
   ]
  }
 ],
 "metadata": {
  "kernelspec": {
   "display_name": "Python 3",
   "language": "python",
   "name": "python3"
  },
  "language_info": {
   "codemirror_mode": {
    "name": "ipython",
    "version": 3
   },
   "file_extension": ".py",
   "mimetype": "text/x-python",
   "name": "python",
   "nbconvert_exporter": "python",
   "pygments_lexer": "ipython3",
   "version": "3.13.2"
  }
 },
 "nbformat": 4,
 "nbformat_minor": 5
}
