{
 "cells": [
  {
   "cell_type": "markdown",
   "id": "388f9995",
   "metadata": {},
   "source": [
    "# Exercício 4\n",
    "## Peça dois números e exiba a subtração do primeiro pelo segundo."
   ]
  },
  {
   "cell_type": "code",
   "execution_count": 1,
   "id": "2a088817",
   "metadata": {},
   "outputs": [
    {
     "name": "stdout",
     "output_type": "stream",
     "text": [
      "20 - 10 = 10\n"
     ]
    }
   ],
   "source": [
    "n1 = int(input(\"Digite um número: \"))\n",
    "n2 = int(input(\"Digite outro número: \"))\n",
    "\n",
    "subtracao = n1 - n2\n",
    "\n",
    "print(f\"{n1} - {n2} = {subtracao}\")"
   ]
  }
 ],
 "metadata": {
  "kernelspec": {
   "display_name": "Python 3",
   "language": "python",
   "name": "python3"
  },
  "language_info": {
   "codemirror_mode": {
    "name": "ipython",
    "version": 3
   },
   "file_extension": ".py",
   "mimetype": "text/x-python",
   "name": "python",
   "nbconvert_exporter": "python",
   "pygments_lexer": "ipython3",
   "version": "3.13.2"
  }
 },
 "nbformat": 4,
 "nbformat_minor": 5
}
