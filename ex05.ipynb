{
 "cells": [
  {
   "cell_type": "markdown",
   "id": "7830a5e2",
   "metadata": {},
   "source": [
    "# Exercício 5\n",
    "## Peça um número ao usuário e mostre o dobro, o triplo e a raiz quadrada."
   ]
  },
  {
   "cell_type": "code",
   "execution_count": null,
   "id": "11eafa39",
   "metadata": {},
   "outputs": [],
   "source": []
  }
 ],
 "metadata": {
  "language_info": {
   "name": "python"
  }
 },
 "nbformat": 4,
 "nbformat_minor": 5
}
