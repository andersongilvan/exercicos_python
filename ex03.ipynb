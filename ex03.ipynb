{
 "cells": [
  {
   "cell_type": "markdown",
   "id": "2fb4fde1",
   "metadata": {},
   "source": [
    "# Exercício 3\n",
    "## Peça a idade do usuário em anos e converta para dias (desconsidere anos bissextos).\n"
   ]
  },
  {
   "cell_type": "code",
   "execution_count": 1,
   "id": "cb99a64d",
   "metadata": {},
   "outputs": [
    {
     "name": "stdout",
     "output_type": "stream",
     "text": [
      "Sua idade é de 36 anos, equivale a 13140 dias\n"
     ]
    }
   ],
   "source": [
    "dias_ano = 365\n",
    "\n",
    "idade = int(input(\"Digite a sua idade: \"))\n",
    "\n",
    "dias = dias_ano * idade\n",
    "\n",
    "print(f\"Sua idade é de {idade} anos, equivale a {dias} dias\")\n",
    "\n"
   ]
  }
 ],
 "metadata": {
  "kernelspec": {
   "display_name": "Python 3",
   "language": "python",
   "name": "python3"
  },
  "language_info": {
   "codemirror_mode": {
    "name": "ipython",
    "version": 3
   },
   "file_extension": ".py",
   "mimetype": "text/x-python",
   "name": "python",
   "nbconvert_exporter": "python",
   "pygments_lexer": "ipython3",
   "version": "3.13.2"
  }
 },
 "nbformat": 4,
 "nbformat_minor": 5
}
